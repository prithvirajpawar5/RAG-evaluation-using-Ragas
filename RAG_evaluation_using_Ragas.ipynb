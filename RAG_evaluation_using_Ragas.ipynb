{
  "cells": [
    {
      "cell_type": "markdown",
      "id": "635d8ebb",
      "metadata": {},
      "source": [
        "# Evaluation Of RAG using Ragas\n",
        "\n",
        "We will follow these steps to evaluate RAG;\n",
        "- Data laoding and pre-processing\n",
        "- Generating synthetic test data\n",
        "- Building RAG\n",
        "- Evaluating RAG using Test data"
      ]
    },
    {
      "cell_type": "markdown",
      "id": "c6c7aba4",
      "metadata": {},
      "source": [
        "## Data laoding and pre-processing"
      ]
    },
    {
      "cell_type": "markdown",
      "id": "dbd08a6c",
      "metadata": {},
      "source": [
        "Document Preprocessing"
      ]
    },
    {
      "cell_type": "code",
      "execution_count": 10,
      "id": "2902492e",
      "metadata": {},
      "outputs": [
        {
          "data": {
            "text/plain": [
              "8"
            ]
          },
          "execution_count": 10,
          "metadata": {},
          "output_type": "execute_result"
        }
      ],
      "source": [
        "from langchain_community.document_loaders import PDFPlumberLoader\n",
        "\n",
        "file_path = 'data/Human-Rights.pdf'\n",
        "\n",
        "# Create document loader\n",
        "loader = PDFPlumberLoader(file_path)\n",
        "# Load documents\n",
        "docs = loader.load()\n",
        "\n",
        "# Get the number of document pages\n",
        "len(docs)"
      ]
    },
    {
      "cell_type": "markdown",
      "id": "b1cead87",
      "metadata": {},
      "source": [
        "## Generating synthetic test data\n",
        "\n",
        "We will be using OpenAI LLM and embedding model to generate test data"
      ]
    },
    {
      "cell_type": "code",
      "execution_count": null,
      "id": "7f9065ea",
      "metadata": {},
      "outputs": [],
      "source": [
        "import os\n",
        "os.environ[\"OPENAI_API_KEY\"] = \"\"  # replace with your API key"
      ]
    },
    {
      "cell_type": "markdown",
      "id": "53837289",
      "metadata": {},
      "source": [
        "The LLM and embedding model need to be wrapped in `LangchainLLMWrapper` so that they can be used with Ragas."
      ]
    },
    {
      "cell_type": "code",
      "execution_count": 12,
      "id": "a52dbb38",
      "metadata": {},
      "outputs": [
        {
          "name": "stderr",
          "output_type": "stream",
          "text": [
            "/Users/daddy/agents/Evaluation/myenv/lib/python3.11/site-packages/tqdm/auto.py:21: TqdmWarning: IProgress not found. Please update jupyter and ipywidgets. See https://ipywidgets.readthedocs.io/en/stable/user_install.html\n",
            "  from .autonotebook import tqdm as notebook_tqdm\n"
          ]
        }
      ],
      "source": [
        "from ragas.llms import LangchainLLMWrapper\n",
        "from ragas.embeddings import LangchainEmbeddingsWrapper\n",
        "from langchain_openai import ChatOpenAI\n",
        "from langchain_openai import OpenAIEmbeddings\n",
        "\n",
        "generator_llm = LangchainLLMWrapper(ChatOpenAI(model=\"gpt-4o-mini\"))\n",
        "generator_embeddings = LangchainEmbeddingsWrapper(OpenAIEmbeddings())"
      ]
    },
    {
      "cell_type": "markdown",
      "id": "c72bdcd8",
      "metadata": {},
      "source": [
        "Create a test set generator and generate test dataset"
      ]
    },
    {
      "cell_type": "code",
      "execution_count": 13,
      "id": "a5caf27c",
      "metadata": {},
      "outputs": [
        {
          "name": "stderr",
          "output_type": "stream",
          "text": [
            "Applying SummaryExtractor:   0%|          | 0/8 [00:00<?, ?it/s]0.00s - Debugger warning: It seems that frozen modules are being used, which may\n",
            "0.00s - make the debugger miss breakpoints. Please pass -Xfrozen_modules=off\n",
            "0.00s - to python to disable frozen modules.\n",
            "0.00s - Note: Debugging will proceed. Set PYDEVD_DISABLE_FILE_VALIDATION=1 to disable this validation.\n",
            "Generating personas: 100%|██████████| 3/3 [00:01<00:00,  1.99it/s]                                           \n",
            "Generating Scenarios: 100%|██████████| 2/2 [00:06<00:00,  3.27s/it]\n",
            "Generating Samples: 100%|██████████| 10/10 [00:02<00:00,  3.71it/s]\n"
          ]
        }
      ],
      "source": [
        "from ragas.testset import TestsetGenerator\n",
        "\n",
        "generator = TestsetGenerator(llm=generator_llm, embedding_model=generator_embeddings)\n",
        "dataset = generator.generate_with_langchain_docs(docs, testset_size=10)"
      ]
    },
    {
      "cell_type": "markdown",
      "id": "35f3ff5d",
      "metadata": {},
      "source": [
        "The generated test dataset consists of columns: `user_input`(query), `reference_contexts`(reference chunks for comparing), `reference`(response) and `synthesizer_name`(type of generated query). For more details refer the Ragas documentation."
      ]
    },
    {
      "cell_type": "code",
      "execution_count": 14,
      "id": "59b565b1",
      "metadata": {},
      "outputs": [
        {
          "data": {
            "text/html": [
              "<div>\n",
              "<style scoped>\n",
              "    .dataframe tbody tr th:only-of-type {\n",
              "        vertical-align: middle;\n",
              "    }\n",
              "\n",
              "    .dataframe tbody tr th {\n",
              "        vertical-align: top;\n",
              "    }\n",
              "\n",
              "    .dataframe thead th {\n",
              "        text-align: right;\n",
              "    }\n",
              "</style>\n",
              "<table border=\"1\" class=\"dataframe\">\n",
              "  <thead>\n",
              "    <tr style=\"text-align: right;\">\n",
              "      <th></th>\n",
              "      <th>user_input</th>\n",
              "      <th>reference_contexts</th>\n",
              "      <th>reference</th>\n",
              "      <th>synthesizer_name</th>\n",
              "    </tr>\n",
              "  </thead>\n",
              "  <tbody>\n",
              "    <tr>\n",
              "      <th>0</th>\n",
              "      <td>Why is the United Nations important for human ...</td>\n",
              "      <td>[Universal Declaration of Human Rights\\nPreamb...</td>\n",
              "      <td>The United Nations is important for human righ...</td>\n",
              "      <td>single_hop_specifc_query_synthesizer</td>\n",
              "    </tr>\n",
              "    <tr>\n",
              "      <th>1</th>\n",
              "      <td>What does Article 4 say about slavery and serv...</td>\n",
              "      <td>[teaching and education to promote respect for...</td>\n",
              "      <td>Article 4 states that no one shall be held in ...</td>\n",
              "      <td>single_hop_specifc_query_synthesizer</td>\n",
              "    </tr>\n",
              "    <tr>\n",
              "      <th>2</th>\n",
              "      <td>What rights are guaranteed under Article 15 re...</td>\n",
              "      <td>[penalty be imposed than the one that was appl...</td>\n",
              "      <td>Article 15 guarantees that everyone has the ri...</td>\n",
              "      <td>single_hop_specifc_query_synthesizer</td>\n",
              "    </tr>\n",
              "    <tr>\n",
              "      <th>3</th>\n",
              "      <td>Wht r the rights outlined in Article 24?</td>\n",
              "      <td>[1. Everyone has the right to take part in the...</td>\n",
              "      <td>Article 24 states that everyone has the right ...</td>\n",
              "      <td>single_hop_specifc_query_synthesizer</td>\n",
              "    </tr>\n",
              "    <tr>\n",
              "      <th>4</th>\n",
              "      <td>What rights are guaranteed under Article 25?</td>\n",
              "      <td>[Article 25\\n1. Everyone has the right to a st...</td>\n",
              "      <td>Article 25 guarantees everyone the right to a ...</td>\n",
              "      <td>single_hop_specifc_query_synthesizer</td>\n",
              "    </tr>\n",
              "    <tr>\n",
              "      <th>5</th>\n",
              "      <td>What rights are guaranteed under Article 5 and...</td>\n",
              "      <td>[&lt;1-hop&gt;\\n\\n1. Everyone has the right to take ...</td>\n",
              "      <td>Article 5 guarantees that no one shall be subj...</td>\n",
              "      <td>multi_hop_specific_query_synthesizer</td>\n",
              "    </tr>\n",
              "    <tr>\n",
              "      <th>6</th>\n",
              "      <td>How do Articles 22 and 27 of the human rights ...</td>\n",
              "      <td>[&lt;1-hop&gt;\\n\\nArticle 25\\n1. Everyone has the ri...</td>\n",
              "      <td>Article 22 ensures that everyone, as a member ...</td>\n",
              "      <td>multi_hop_specific_query_synthesizer</td>\n",
              "    </tr>\n",
              "    <tr>\n",
              "      <th>7</th>\n",
              "      <td>How do Articles 12 and 25 of the human rights ...</td>\n",
              "      <td>[&lt;1-hop&gt;\\n\\nArticle 25\\n1. Everyone has the ri...</td>\n",
              "      <td>Article 12 ensures that no one is subjected to...</td>\n",
              "      <td>multi_hop_specific_query_synthesizer</td>\n",
              "    </tr>\n",
              "    <tr>\n",
              "      <th>8</th>\n",
              "      <td>What rights are protected under Article 4 rega...</td>\n",
              "      <td>[&lt;1-hop&gt;\\n\\nArticle 25\\n1. Everyone has the ri...</td>\n",
              "      <td>Article 4 states that no one shall be held in ...</td>\n",
              "      <td>multi_hop_specific_query_synthesizer</td>\n",
              "    </tr>\n",
              "    <tr>\n",
              "      <th>9</th>\n",
              "      <td>What are the rights guaranteed under Article I...</td>\n",
              "      <td>[&lt;1-hop&gt;\\n\\npenalty be imposed than the one th...</td>\n",
              "      <td>Article I guarantees that all human beings are...</td>\n",
              "      <td>multi_hop_specific_query_synthesizer</td>\n",
              "    </tr>\n",
              "  </tbody>\n",
              "</table>\n",
              "</div>"
            ],
            "text/plain": [
              "                                          user_input  \\\n",
              "0  Why is the United Nations important for human ...   \n",
              "1  What does Article 4 say about slavery and serv...   \n",
              "2  What rights are guaranteed under Article 15 re...   \n",
              "3           Wht r the rights outlined in Article 24?   \n",
              "4       What rights are guaranteed under Article 25?   \n",
              "5  What rights are guaranteed under Article 5 and...   \n",
              "6  How do Articles 22 and 27 of the human rights ...   \n",
              "7  How do Articles 12 and 25 of the human rights ...   \n",
              "8  What rights are protected under Article 4 rega...   \n",
              "9  What are the rights guaranteed under Article I...   \n",
              "\n",
              "                                  reference_contexts  \\\n",
              "0  [Universal Declaration of Human Rights\\nPreamb...   \n",
              "1  [teaching and education to promote respect for...   \n",
              "2  [penalty be imposed than the one that was appl...   \n",
              "3  [1. Everyone has the right to take part in the...   \n",
              "4  [Article 25\\n1. Everyone has the right to a st...   \n",
              "5  [<1-hop>\\n\\n1. Everyone has the right to take ...   \n",
              "6  [<1-hop>\\n\\nArticle 25\\n1. Everyone has the ri...   \n",
              "7  [<1-hop>\\n\\nArticle 25\\n1. Everyone has the ri...   \n",
              "8  [<1-hop>\\n\\nArticle 25\\n1. Everyone has the ri...   \n",
              "9  [<1-hop>\\n\\npenalty be imposed than the one th...   \n",
              "\n",
              "                                           reference  \\\n",
              "0  The United Nations is important for human righ...   \n",
              "1  Article 4 states that no one shall be held in ...   \n",
              "2  Article 15 guarantees that everyone has the ri...   \n",
              "3  Article 24 states that everyone has the right ...   \n",
              "4  Article 25 guarantees everyone the right to a ...   \n",
              "5  Article 5 guarantees that no one shall be subj...   \n",
              "6  Article 22 ensures that everyone, as a member ...   \n",
              "7  Article 12 ensures that no one is subjected to...   \n",
              "8  Article 4 states that no one shall be held in ...   \n",
              "9  Article I guarantees that all human beings are...   \n",
              "\n",
              "                       synthesizer_name  \n",
              "0  single_hop_specifc_query_synthesizer  \n",
              "1  single_hop_specifc_query_synthesizer  \n",
              "2  single_hop_specifc_query_synthesizer  \n",
              "3  single_hop_specifc_query_synthesizer  \n",
              "4  single_hop_specifc_query_synthesizer  \n",
              "5  multi_hop_specific_query_synthesizer  \n",
              "6  multi_hop_specific_query_synthesizer  \n",
              "7  multi_hop_specific_query_synthesizer  \n",
              "8  multi_hop_specific_query_synthesizer  \n",
              "9  multi_hop_specific_query_synthesizer  "
            ]
          },
          "execution_count": 14,
          "metadata": {},
          "output_type": "execute_result"
        }
      ],
      "source": [
        "dataset.to_pandas()"
      ]
    },
    {
      "cell_type": "markdown",
      "id": "e7e74166",
      "metadata": {},
      "source": [
        "Save created test dataset to disk"
      ]
    },
    {
      "cell_type": "code",
      "execution_count": 15,
      "id": "cd7ed7fa",
      "metadata": {},
      "outputs": [],
      "source": [
        "dataset.to_pandas().to_csv(\"data/ragas_synthetic_dataset.csv\", index=False)"
      ]
    },
    {
      "cell_type": "markdown",
      "metadata": {},
      "source": [
        "## Building RAG"
      ]
    },
    {
      "cell_type": "code",
      "execution_count": 17,
      "id": "7e68b0fd",
      "metadata": {},
      "outputs": [],
      "source": [
        "from langchain_text_splitters import RecursiveCharacterTextSplitter\n",
        "from langchain_community.document_loaders import PyMuPDFLoader\n",
        "from langchain_community.vectorstores import FAISS\n",
        "from langchain_core.output_parsers import StrOutputParser\n",
        "from langchain_core.runnables import RunnablePassthrough\n",
        "from langchain_core.prompts import PromptTemplate\n",
        "from langchain_openai import ChatOpenAI, OpenAIEmbeddings\n",
        "\n",
        "# Step 1: Load Documents\n",
        "loader = PyMuPDFLoader(\"data/Human-Rights.pdf\")\n",
        "docs = loader.load()\n",
        "\n",
        "# Step 2: Split Documents\n",
        "text_splitter = RecursiveCharacterTextSplitter(chunk_size=1000, chunk_overlap=50)\n",
        "split_documents = text_splitter.split_documents(docs)\n",
        "\n",
        "# Step 3: Create Embeddings\n",
        "embeddings = OpenAIEmbeddings()\n",
        "\n",
        "# Step 4: Create DB and Save\n",
        "vectorstore = FAISS.from_documents(documents=split_documents, embedding=embeddings)\n",
        "\n",
        "# Step 5: Create Retriever\n",
        "retriever = vectorstore.as_retriever()\n",
        "\n",
        "# Step 6: Create Prompt\n",
        "prompt = PromptTemplate.from_template(\n",
        "    \"\"\"You are an assistant for question-answering tasks. \n",
        "Use the following pieces of retrieved context to answer the question. \n",
        "If you don't know the answer, just say that you don't know. \n",
        "\n",
        "#Context: \n",
        "{context}\n",
        "\n",
        "#Question:\n",
        "{question}\n",
        "\n",
        "#Answer:\"\"\"\n",
        ")\n",
        "\n",
        "# Step 7: Create LLM\n",
        "llm = ChatOpenAI(model_name=\"gpt-4o-mini\", temperature=0)\n",
        "\n",
        "# Step 8: Create Chain\n",
        "chain = (\n",
        "    {\"context\": retriever, \"question\": RunnablePassthrough()}\n",
        "    | prompt\n",
        "    | llm\n",
        "    | StrOutputParser()\n",
        ")"
      ]
    },
    {
      "cell_type": "markdown",
      "id": "69310464",
      "metadata": {},
      "source": [
        "## Evaluating RAG using Test data"
      ]
    },
    {
      "cell_type": "markdown",
      "id": "109faf82",
      "metadata": {},
      "source": [
        "Load the Ragas generated test dataset that we saved in the previous step.\n"
      ]
    },
    {
      "cell_type": "code",
      "execution_count": 18,
      "id": "eae2f2ac",
      "metadata": {},
      "outputs": [
        {
          "data": {
            "text/html": [
              "<div>\n",
              "<style scoped>\n",
              "    .dataframe tbody tr th:only-of-type {\n",
              "        vertical-align: middle;\n",
              "    }\n",
              "\n",
              "    .dataframe tbody tr th {\n",
              "        vertical-align: top;\n",
              "    }\n",
              "\n",
              "    .dataframe thead th {\n",
              "        text-align: right;\n",
              "    }\n",
              "</style>\n",
              "<table border=\"1\" class=\"dataframe\">\n",
              "  <thead>\n",
              "    <tr style=\"text-align: right;\">\n",
              "      <th></th>\n",
              "      <th>user_input</th>\n",
              "      <th>reference_contexts</th>\n",
              "      <th>reference</th>\n",
              "      <th>synthesizer_name</th>\n",
              "    </tr>\n",
              "  </thead>\n",
              "  <tbody>\n",
              "    <tr>\n",
              "      <th>0</th>\n",
              "      <td>Why is the United Nations important for human ...</td>\n",
              "      <td>['Universal Declaration of Human Rights\\nPream...</td>\n",
              "      <td>The United Nations is important for human righ...</td>\n",
              "      <td>single_hop_specifc_query_synthesizer</td>\n",
              "    </tr>\n",
              "    <tr>\n",
              "      <th>1</th>\n",
              "      <td>What does Article 4 say about slavery and serv...</td>\n",
              "      <td>['teaching and education to promote respect fo...</td>\n",
              "      <td>Article 4 states that no one shall be held in ...</td>\n",
              "      <td>single_hop_specifc_query_synthesizer</td>\n",
              "    </tr>\n",
              "    <tr>\n",
              "      <th>2</th>\n",
              "      <td>What rights are guaranteed under Article 15 re...</td>\n",
              "      <td>['penalty be imposed than the one that was app...</td>\n",
              "      <td>Article 15 guarantees that everyone has the ri...</td>\n",
              "      <td>single_hop_specifc_query_synthesizer</td>\n",
              "    </tr>\n",
              "    <tr>\n",
              "      <th>3</th>\n",
              "      <td>Wht r the rights outlined in Article 24?</td>\n",
              "      <td>['1. Everyone has the right to take part in th...</td>\n",
              "      <td>Article 24 states that everyone has the right ...</td>\n",
              "      <td>single_hop_specifc_query_synthesizer</td>\n",
              "    </tr>\n",
              "    <tr>\n",
              "      <th>4</th>\n",
              "      <td>What rights are guaranteed under Article 25?</td>\n",
              "      <td>['Article 25\\n1. Everyone has the right to a s...</td>\n",
              "      <td>Article 25 guarantees everyone the right to a ...</td>\n",
              "      <td>single_hop_specifc_query_synthesizer</td>\n",
              "    </tr>\n",
              "  </tbody>\n",
              "</table>\n",
              "</div>"
            ],
            "text/plain": [
              "                                          user_input  \\\n",
              "0  Why is the United Nations important for human ...   \n",
              "1  What does Article 4 say about slavery and serv...   \n",
              "2  What rights are guaranteed under Article 15 re...   \n",
              "3           Wht r the rights outlined in Article 24?   \n",
              "4       What rights are guaranteed under Article 25?   \n",
              "\n",
              "                                  reference_contexts  \\\n",
              "0  ['Universal Declaration of Human Rights\\nPream...   \n",
              "1  ['teaching and education to promote respect fo...   \n",
              "2  ['penalty be imposed than the one that was app...   \n",
              "3  ['1. Everyone has the right to take part in th...   \n",
              "4  ['Article 25\\n1. Everyone has the right to a s...   \n",
              "\n",
              "                                           reference  \\\n",
              "0  The United Nations is important for human righ...   \n",
              "1  Article 4 states that no one shall be held in ...   \n",
              "2  Article 15 guarantees that everyone has the ri...   \n",
              "3  Article 24 states that everyone has the right ...   \n",
              "4  Article 25 guarantees everyone the right to a ...   \n",
              "\n",
              "                       synthesizer_name  \n",
              "0  single_hop_specifc_query_synthesizer  \n",
              "1  single_hop_specifc_query_synthesizer  \n",
              "2  single_hop_specifc_query_synthesizer  \n",
              "3  single_hop_specifc_query_synthesizer  \n",
              "4  single_hop_specifc_query_synthesizer  "
            ]
          },
          "execution_count": 18,
          "metadata": {},
          "output_type": "execute_result"
        }
      ],
      "source": [
        "import pandas as pd\n",
        "df = pd.read_csv(\"data/ragas_synthetic_dataset.csv\")\n",
        "df.head()"
      ]
    },
    {
      "cell_type": "code",
      "execution_count": 51,
      "id": "f5d2e959",
      "metadata": {},
      "outputs": [
        {
          "data": {
            "text/plain": [
              "Dataset({\n",
              "    features: ['user_input', 'reference_contexts', 'reference', 'synthesizer_name'],\n",
              "    num_rows: 10\n",
              "})"
            ]
          },
          "execution_count": 51,
          "metadata": {},
          "output_type": "execute_result"
        }
      ],
      "source": [
        "from datasets import Dataset\n",
        "test_dataset = Dataset.from_pandas(df)\n",
        "test_dataset"
      ]
    },
    {
      "cell_type": "code",
      "execution_count": 52,
      "id": "f1cd1e20",
      "metadata": {},
      "outputs": [
        {
          "data": {
            "text/plain": [
              "\"['teaching and education to promote respect for these rights and freedoms and by\\\\nprogressive measures, national and international, to secure their universal and\\\\neffective recognition and observance, both among the peoples of Member States\\\\nthemselves and among the peoples of territories under their jurisdiction.\\\\nArticle I\\\\nAll human beings are born free and equal in dignity and rights. They are\\\\nendowed with reason and conscience and should act towards one another in a\\\\nspirit of brotherhood.\\\\nArticle 2\\\\nEveryone is entitled to all the rights and freedoms set forth in this Declaration,\\\\nwithout distinction of any kind, such as race, colour, sex, language, religion,\\\\npolitical or other opinion, national or social origin, property, birth or other status.\\\\nFurthermore, no distinction shall be made on the basis of the political,\\\\njurisdictional or international status of the country or territory to which a person\\\\nbelongs, whether it be independent, trust, non-self-governing or under any other\\\\nlimitation of sovereignty.\\\\nArticle 3\\\\nEveryone has the right to life, liberty and the security of person.\\\\nArticle 4\\\\nNo one shall be held in slavery or servitude; slavery and the slave trade shall be\\\\nprohibited in all their forms.\\\\nArticle 5\\\\nNo one shall be subjected to torture or to cruel, inhuman or degrading treatment\\\\nor punishment.\\\\n']\""
            ]
          },
          "execution_count": 52,
          "metadata": {},
          "output_type": "execute_result"
        }
      ],
      "source": [
        "test_dataset[1]['reference_contexts']"
      ]
    },
    {
      "cell_type": "markdown",
      "id": "5444d9e0",
      "metadata": {},
      "source": [
        "As seen above the `reference_contexts` column items are strings containg list so these need to be converted from strings to list for further processing"
      ]
    },
    {
      "cell_type": "code",
      "execution_count": 53,
      "id": "dfa86ae9",
      "metadata": {},
      "outputs": [
        {
          "name": "stderr",
          "output_type": "stream",
          "text": [
            "Map: 100%|██████████| 10/10 [00:00<00:00, 1077.45 examples/s]"
          ]
        },
        {
          "name": "stdout",
          "output_type": "stream",
          "text": [
            "Dataset({\n",
            "    features: ['user_input', 'reference_contexts', 'reference', 'synthesizer_name'],\n",
            "    num_rows: 10\n",
            "})\n"
          ]
        },
        {
          "name": "stderr",
          "output_type": "stream",
          "text": [
            "\n"
          ]
        }
      ],
      "source": [
        "import ast\n",
        "\n",
        "# Convert contexts column from string to list\n",
        "def convert_to_list(data):\n",
        "    contexts = ast.literal_eval(data[\"reference_contexts\"])\n",
        "    return {\"reference_contexts\": contexts}\n",
        "\n",
        "test_dataset = test_dataset.map(convert_to_list)\n",
        "print(test_dataset)"
      ]
    },
    {
      "cell_type": "code",
      "execution_count": 54,
      "id": "83eba863",
      "metadata": {},
      "outputs": [
        {
          "data": {
            "text/plain": [
              "['teaching and education to promote respect for these rights and freedoms and by\\nprogressive measures, national and international, to secure their universal and\\neffective recognition and observance, both among the peoples of Member States\\nthemselves and among the peoples of territories under their jurisdiction.\\nArticle I\\nAll human beings are born free and equal in dignity and rights. They are\\nendowed with reason and conscience and should act towards one another in a\\nspirit of brotherhood.\\nArticle 2\\nEveryone is entitled to all the rights and freedoms set forth in this Declaration,\\nwithout distinction of any kind, such as race, colour, sex, language, religion,\\npolitical or other opinion, national or social origin, property, birth or other status.\\nFurthermore, no distinction shall be made on the basis of the political,\\njurisdictional or international status of the country or territory to which a person\\nbelongs, whether it be independent, trust, non-self-governing or under any other\\nlimitation of sovereignty.\\nArticle 3\\nEveryone has the right to life, liberty and the security of person.\\nArticle 4\\nNo one shall be held in slavery or servitude; slavery and the slave trade shall be\\nprohibited in all their forms.\\nArticle 5\\nNo one shall be subjected to torture or to cruel, inhuman or degrading treatment\\nor punishment.\\n']"
            ]
          },
          "execution_count": 54,
          "metadata": {},
          "output_type": "execute_result"
        }
      ],
      "source": [
        "test_dataset[1][\"reference_contexts\"]"
      ]
    },
    {
      "cell_type": "markdown",
      "id": "a7f9c9f7",
      "metadata": {},
      "source": [
        "### Generate response using RAG\n",
        "Now we will input the test queries in to our RAG app. Instead of passing single query we will create a batch of quereies and pass it to RAG chain to get set of answers one each for every query.\n",
        "\n",
        "Batch dataset is useful when you want to process a large number of questions at once. We will create a batch dataset by assigning the questions to `batch_dataset`."
      ]
    },
    {
      "cell_type": "code",
      "execution_count": 42,
      "id": "622e2140",
      "metadata": {},
      "outputs": [
        {
          "data": {
            "text/plain": [
              "['Why is the United Nations important for human rights and what does it say about the rights of all people?',\n",
              " 'What does Article 4 say about slavery and servitude and how it relates to human rights?',\n",
              " 'What rights are guaranteed under Article 15 regarding nationality?',\n",
              " 'Wht r the rights outlined in Article 24?',\n",
              " 'What rights are guaranteed under Article 25?']"
            ]
          },
          "execution_count": 42,
          "metadata": {},
          "output_type": "execute_result"
        }
      ],
      "source": [
        "batch_dataset = [question for question in test_dataset[\"user_input\"]]\n",
        "batch_dataset[:5]"
      ]
    },
    {
      "cell_type": "markdown",
      "id": "d5082ac8",
      "metadata": {},
      "source": [
        "Call `batch()` to get answers for the batch dataset ( `batch_dataset` )."
      ]
    },
    {
      "cell_type": "code",
      "execution_count": 55,
      "id": "ee66e2e5",
      "metadata": {},
      "outputs": [
        {
          "data": {
            "text/plain": [
              "['The United Nations is important for human rights because it serves as a platform for promoting universal respect for and observance of human rights and fundamental freedoms. The Universal Declaration of Human Rights, proclaimed by the General Assembly, establishes a common standard of achievement for all peoples and nations. It emphasizes that all human beings are born free and equal in dignity and rights, and that everyone is entitled to all the rights and freedoms set forth in the Declaration without any distinction of any kind. This underscores the importance of protecting human rights through the rule of law and fostering friendly relations between nations, which are essential for freedom, justice, and peace in the world.',\n",
              " 'Article 4 states that no one shall be held in slavery or servitude, and it prohibits slavery and the slave trade in all their forms. This article emphasizes the importance of human rights by asserting that individuals should not be subjected to any form of slavery or servitude, which is a fundamental violation of human dignity and freedom.',\n",
              " 'Article 15 guarantees that everyone has the right to a nationality.',\n",
              " 'Article 24 outlines the following rights:\\n\\n1. Everyone has the right to rest and leisure.\\n2. This includes reasonable limitation of working hours.\\n3. It also includes periodic holidays with pay.',\n",
              " \"Article 25 guarantees the following rights:\\n\\n1. The right to a standard of living adequate for the health and well-being of oneself and one's family, which includes access to food, clothing, housing, medical care, and necessary social services. It also includes the right to security in the event of unemployment, sickness, disability, widowhood, old age, or other circumstances beyond one's control.\\n\\n2. Special care and assistance for motherhood and childhood, ensuring that all children, whether born in or out of wedlock, enjoy the same social protection.\"]"
            ]
          },
          "execution_count": 55,
          "metadata": {},
          "output_type": "execute_result"
        }
      ],
      "source": [
        "answer = chain.batch(batch_dataset)\n",
        "answer[:5]"
      ]
    },
    {
      "cell_type": "markdown",
      "id": "21d638db",
      "metadata": {},
      "source": [
        "Store the answers generated by the LLM in a dataset column `answer`."
      ]
    },
    {
      "cell_type": "code",
      "execution_count": 56,
      "id": "14bcc9bf",
      "metadata": {},
      "outputs": [],
      "source": [
        "# Overwrite or add 'answer' column\n",
        "if \"answer\" in test_dataset.column_names:\n",
        "    test_dataset = test_dataset.remove_columns([\"answer\"]).add_column(\"answer\", answer)\n",
        "else:\n",
        "    test_dataset = test_dataset.add_column(\"answer\", answer)"
      ]
    },
    {
      "cell_type": "code",
      "execution_count": 57,
      "id": "da44c62d",
      "metadata": {},
      "outputs": [
        {
          "data": {
            "text/html": [
              "<div>\n",
              "<style scoped>\n",
              "    .dataframe tbody tr th:only-of-type {\n",
              "        vertical-align: middle;\n",
              "    }\n",
              "\n",
              "    .dataframe tbody tr th {\n",
              "        vertical-align: top;\n",
              "    }\n",
              "\n",
              "    .dataframe thead th {\n",
              "        text-align: right;\n",
              "    }\n",
              "</style>\n",
              "<table border=\"1\" class=\"dataframe\">\n",
              "  <thead>\n",
              "    <tr style=\"text-align: right;\">\n",
              "      <th></th>\n",
              "      <th>user_input</th>\n",
              "      <th>reference_contexts</th>\n",
              "      <th>reference</th>\n",
              "      <th>synthesizer_name</th>\n",
              "      <th>answer</th>\n",
              "    </tr>\n",
              "  </thead>\n",
              "  <tbody>\n",
              "    <tr>\n",
              "      <th>0</th>\n",
              "      <td>Why is the United Nations important for human ...</td>\n",
              "      <td>[Universal Declaration of Human Rights\\nPreamb...</td>\n",
              "      <td>The United Nations is important for human righ...</td>\n",
              "      <td>single_hop_specifc_query_synthesizer</td>\n",
              "      <td>The United Nations is important for human righ...</td>\n",
              "    </tr>\n",
              "    <tr>\n",
              "      <th>1</th>\n",
              "      <td>What does Article 4 say about slavery and serv...</td>\n",
              "      <td>[teaching and education to promote respect for...</td>\n",
              "      <td>Article 4 states that no one shall be held in ...</td>\n",
              "      <td>single_hop_specifc_query_synthesizer</td>\n",
              "      <td>Article 4 states that no one shall be held in ...</td>\n",
              "    </tr>\n",
              "    <tr>\n",
              "      <th>2</th>\n",
              "      <td>What rights are guaranteed under Article 15 re...</td>\n",
              "      <td>[penalty be imposed than the one that was appl...</td>\n",
              "      <td>Article 15 guarantees that everyone has the ri...</td>\n",
              "      <td>single_hop_specifc_query_synthesizer</td>\n",
              "      <td>Article 15 guarantees that everyone has the ri...</td>\n",
              "    </tr>\n",
              "    <tr>\n",
              "      <th>3</th>\n",
              "      <td>Wht r the rights outlined in Article 24?</td>\n",
              "      <td>[1. Everyone has the right to take part in the...</td>\n",
              "      <td>Article 24 states that everyone has the right ...</td>\n",
              "      <td>single_hop_specifc_query_synthesizer</td>\n",
              "      <td>Article 24 outlines the following rights:\\n\\n1...</td>\n",
              "    </tr>\n",
              "    <tr>\n",
              "      <th>4</th>\n",
              "      <td>What rights are guaranteed under Article 25?</td>\n",
              "      <td>[Article 25\\n1. Everyone has the right to a st...</td>\n",
              "      <td>Article 25 guarantees everyone the right to a ...</td>\n",
              "      <td>single_hop_specifc_query_synthesizer</td>\n",
              "      <td>Article 25 guarantees the following rights:\\n\\...</td>\n",
              "    </tr>\n",
              "  </tbody>\n",
              "</table>\n",
              "</div>"
            ],
            "text/plain": [
              "                                          user_input  \\\n",
              "0  Why is the United Nations important for human ...   \n",
              "1  What does Article 4 say about slavery and serv...   \n",
              "2  What rights are guaranteed under Article 15 re...   \n",
              "3           Wht r the rights outlined in Article 24?   \n",
              "4       What rights are guaranteed under Article 25?   \n",
              "\n",
              "                                  reference_contexts  \\\n",
              "0  [Universal Declaration of Human Rights\\nPreamb...   \n",
              "1  [teaching and education to promote respect for...   \n",
              "2  [penalty be imposed than the one that was appl...   \n",
              "3  [1. Everyone has the right to take part in the...   \n",
              "4  [Article 25\\n1. Everyone has the right to a st...   \n",
              "\n",
              "                                           reference  \\\n",
              "0  The United Nations is important for human righ...   \n",
              "1  Article 4 states that no one shall be held in ...   \n",
              "2  Article 15 guarantees that everyone has the ri...   \n",
              "3  Article 24 states that everyone has the right ...   \n",
              "4  Article 25 guarantees everyone the right to a ...   \n",
              "\n",
              "                       synthesizer_name  \\\n",
              "0  single_hop_specifc_query_synthesizer   \n",
              "1  single_hop_specifc_query_synthesizer   \n",
              "2  single_hop_specifc_query_synthesizer   \n",
              "3  single_hop_specifc_query_synthesizer   \n",
              "4  single_hop_specifc_query_synthesizer   \n",
              "\n",
              "                                              answer  \n",
              "0  The United Nations is important for human righ...  \n",
              "1  Article 4 states that no one shall be held in ...  \n",
              "2  Article 15 guarantees that everyone has the ri...  \n",
              "3  Article 24 outlines the following rights:\\n\\n1...  \n",
              "4  Article 25 guarantees the following rights:\\n\\...  "
            ]
          },
          "execution_count": 57,
          "metadata": {},
          "output_type": "execute_result"
        }
      ],
      "source": [
        "test_dataset.to_pandas().head()"
      ]
    },
    {
      "cell_type": "markdown",
      "id": "d86b6be2",
      "metadata": {},
      "source": [
        "Evaluate the test dataset using Ragas metrics"
      ]
    },
    {
      "cell_type": "code",
      "execution_count": 58,
      "id": "3e5a0fe6",
      "metadata": {},
      "outputs": [
        {
          "name": "stderr",
          "output_type": "stream",
          "text": [
            "Evaluating: 100%|██████████| 40/40 [00:24<00:00,  1.65it/s]\n"
          ]
        },
        {
          "data": {
            "text/plain": [
              "{'context_precision': 0.8000, 'faithfulness': 0.8433, 'answer_relevancy': 0.9459, 'context_recall': 0.8050}"
            ]
          },
          "execution_count": 58,
          "metadata": {},
          "output_type": "execute_result"
        }
      ],
      "source": [
        "from ragas import evaluate\n",
        "from ragas.metrics import (\n",
        "    answer_relevancy,\n",
        "    faithfulness,\n",
        "    context_recall,\n",
        "    context_precision,\n",
        ")\n",
        "\n",
        "# Format dataset structure\n",
        "formatted_dataset = []\n",
        "for item in test_dataset:\n",
        "    formatted_item = {\n",
        "        \"question\": item[\"user_input\"],\n",
        "        \"answer\": item[\"answer\"],\n",
        "        \"reference\": item[\"answer\"],\n",
        "        \"contexts\": item[\"reference_contexts\"],\n",
        "        \"retrieved_contexts\": item[\"reference_contexts\"],\n",
        "    }\n",
        "    formatted_dataset.append(formatted_item)\n",
        "\n",
        "# Convert to RAGAS dataset\n",
        "ragas_dataset = Dataset.from_list(formatted_dataset)\n",
        "\n",
        "result = evaluate(\n",
        "    dataset=ragas_dataset,\n",
        "    metrics=[\n",
        "        context_precision,\n",
        "        faithfulness,\n",
        "        answer_relevancy,\n",
        "        context_recall,\n",
        "    ],\n",
        ")\n",
        "\n",
        "result"
      ]
    },
    {
      "cell_type": "code",
      "execution_count": 59,
      "id": "5a393a2a",
      "metadata": {},
      "outputs": [
        {
          "data": {
            "text/html": [
              "<div>\n",
              "<style scoped>\n",
              "    .dataframe tbody tr th:only-of-type {\n",
              "        vertical-align: middle;\n",
              "    }\n",
              "\n",
              "    .dataframe tbody tr th {\n",
              "        vertical-align: top;\n",
              "    }\n",
              "\n",
              "    .dataframe thead th {\n",
              "        text-align: right;\n",
              "    }\n",
              "</style>\n",
              "<table border=\"1\" class=\"dataframe\">\n",
              "  <thead>\n",
              "    <tr style=\"text-align: right;\">\n",
              "      <th></th>\n",
              "      <th>user_input</th>\n",
              "      <th>retrieved_contexts</th>\n",
              "      <th>response</th>\n",
              "      <th>reference</th>\n",
              "      <th>context_precision</th>\n",
              "      <th>faithfulness</th>\n",
              "      <th>answer_relevancy</th>\n",
              "      <th>context_recall</th>\n",
              "    </tr>\n",
              "  </thead>\n",
              "  <tbody>\n",
              "    <tr>\n",
              "      <th>0</th>\n",
              "      <td>Why is the United Nations important for human ...</td>\n",
              "      <td>[Universal Declaration of Human Rights\\nPreamb...</td>\n",
              "      <td>The United Nations is important for human righ...</td>\n",
              "      <td>The United Nations is important for human righ...</td>\n",
              "      <td>1.0</td>\n",
              "      <td>0.75</td>\n",
              "      <td>0.950490</td>\n",
              "      <td>0.75</td>\n",
              "    </tr>\n",
              "    <tr>\n",
              "      <th>1</th>\n",
              "      <td>What does Article 4 say about slavery and serv...</td>\n",
              "      <td>[teaching and education to promote respect for...</td>\n",
              "      <td>Article 4 states that no one shall be held in ...</td>\n",
              "      <td>Article 4 states that no one shall be held in ...</td>\n",
              "      <td>1.0</td>\n",
              "      <td>0.60</td>\n",
              "      <td>0.958473</td>\n",
              "      <td>0.50</td>\n",
              "    </tr>\n",
              "    <tr>\n",
              "      <th>2</th>\n",
              "      <td>What rights are guaranteed under Article 15 re...</td>\n",
              "      <td>[penalty be imposed than the one that was appl...</td>\n",
              "      <td>Article 15 guarantees that everyone has the ri...</td>\n",
              "      <td>Article 15 guarantees that everyone has the ri...</td>\n",
              "      <td>1.0</td>\n",
              "      <td>1.00</td>\n",
              "      <td>0.935646</td>\n",
              "      <td>1.00</td>\n",
              "    </tr>\n",
              "    <tr>\n",
              "      <th>3</th>\n",
              "      <td>Wht r the rights outlined in Article 24?</td>\n",
              "      <td>[1. Everyone has the right to take part in the...</td>\n",
              "      <td>Article 24 outlines the following rights:\\n\\n1...</td>\n",
              "      <td>Article 24 outlines the following rights:\\n\\n1...</td>\n",
              "      <td>1.0</td>\n",
              "      <td>0.75</td>\n",
              "      <td>0.980299</td>\n",
              "      <td>1.00</td>\n",
              "    </tr>\n",
              "    <tr>\n",
              "      <th>4</th>\n",
              "      <td>What rights are guaranteed under Article 25?</td>\n",
              "      <td>[Article 25\\n1. Everyone has the right to a st...</td>\n",
              "      <td>Article 25 guarantees the following rights:\\n\\...</td>\n",
              "      <td>Article 25 guarantees the following rights:\\n\\...</td>\n",
              "      <td>1.0</td>\n",
              "      <td>1.00</td>\n",
              "      <td>0.998046</td>\n",
              "      <td>1.00</td>\n",
              "    </tr>\n",
              "  </tbody>\n",
              "</table>\n",
              "</div>"
            ],
            "text/plain": [
              "                                          user_input  \\\n",
              "0  Why is the United Nations important for human ...   \n",
              "1  What does Article 4 say about slavery and serv...   \n",
              "2  What rights are guaranteed under Article 15 re...   \n",
              "3           Wht r the rights outlined in Article 24?   \n",
              "4       What rights are guaranteed under Article 25?   \n",
              "\n",
              "                                  retrieved_contexts  \\\n",
              "0  [Universal Declaration of Human Rights\\nPreamb...   \n",
              "1  [teaching and education to promote respect for...   \n",
              "2  [penalty be imposed than the one that was appl...   \n",
              "3  [1. Everyone has the right to take part in the...   \n",
              "4  [Article 25\\n1. Everyone has the right to a st...   \n",
              "\n",
              "                                            response  \\\n",
              "0  The United Nations is important for human righ...   \n",
              "1  Article 4 states that no one shall be held in ...   \n",
              "2  Article 15 guarantees that everyone has the ri...   \n",
              "3  Article 24 outlines the following rights:\\n\\n1...   \n",
              "4  Article 25 guarantees the following rights:\\n\\...   \n",
              "\n",
              "                                           reference  context_precision  \\\n",
              "0  The United Nations is important for human righ...                1.0   \n",
              "1  Article 4 states that no one shall be held in ...                1.0   \n",
              "2  Article 15 guarantees that everyone has the ri...                1.0   \n",
              "3  Article 24 outlines the following rights:\\n\\n1...                1.0   \n",
              "4  Article 25 guarantees the following rights:\\n\\...                1.0   \n",
              "\n",
              "   faithfulness  answer_relevancy  context_recall  \n",
              "0          0.75          0.950490            0.75  \n",
              "1          0.60          0.958473            0.50  \n",
              "2          1.00          0.935646            1.00  \n",
              "3          0.75          0.980299            1.00  \n",
              "4          1.00          0.998046            1.00  "
            ]
          },
          "execution_count": 59,
          "metadata": {},
          "output_type": "execute_result"
        }
      ],
      "source": [
        "result_df = result.to_pandas()\n",
        "result_df.head()"
      ]
    },
    {
      "cell_type": "markdown",
      "id": "2df94eff",
      "metadata": {},
      "source": [
        "Extract results of evaluation"
      ]
    },
    {
      "cell_type": "code",
      "execution_count": 60,
      "id": "300a4fbb",
      "metadata": {},
      "outputs": [
        {
          "data": {
            "text/html": [
              "<div>\n",
              "<style scoped>\n",
              "    .dataframe tbody tr th:only-of-type {\n",
              "        vertical-align: middle;\n",
              "    }\n",
              "\n",
              "    .dataframe tbody tr th {\n",
              "        vertical-align: top;\n",
              "    }\n",
              "\n",
              "    .dataframe thead th {\n",
              "        text-align: right;\n",
              "    }\n",
              "</style>\n",
              "<table border=\"1\" class=\"dataframe\">\n",
              "  <thead>\n",
              "    <tr style=\"text-align: right;\">\n",
              "      <th></th>\n",
              "      <th>context_precision</th>\n",
              "      <th>faithfulness</th>\n",
              "      <th>answer_relevancy</th>\n",
              "      <th>context_recall</th>\n",
              "    </tr>\n",
              "  </thead>\n",
              "  <tbody>\n",
              "    <tr>\n",
              "      <th>0</th>\n",
              "      <td>1.0</td>\n",
              "      <td>0.750000</td>\n",
              "      <td>0.950490</td>\n",
              "      <td>0.75</td>\n",
              "    </tr>\n",
              "    <tr>\n",
              "      <th>1</th>\n",
              "      <td>1.0</td>\n",
              "      <td>0.600000</td>\n",
              "      <td>0.958473</td>\n",
              "      <td>0.50</td>\n",
              "    </tr>\n",
              "    <tr>\n",
              "      <th>2</th>\n",
              "      <td>1.0</td>\n",
              "      <td>1.000000</td>\n",
              "      <td>0.935646</td>\n",
              "      <td>1.00</td>\n",
              "    </tr>\n",
              "    <tr>\n",
              "      <th>3</th>\n",
              "      <td>1.0</td>\n",
              "      <td>0.750000</td>\n",
              "      <td>0.980299</td>\n",
              "      <td>1.00</td>\n",
              "    </tr>\n",
              "    <tr>\n",
              "      <th>4</th>\n",
              "      <td>1.0</td>\n",
              "      <td>1.000000</td>\n",
              "      <td>0.998046</td>\n",
              "      <td>1.00</td>\n",
              "    </tr>\n",
              "    <tr>\n",
              "      <th>5</th>\n",
              "      <td>1.0</td>\n",
              "      <td>1.000000</td>\n",
              "      <td>0.901518</td>\n",
              "      <td>0.60</td>\n",
              "    </tr>\n",
              "    <tr>\n",
              "      <th>6</th>\n",
              "      <td>0.5</td>\n",
              "      <td>0.666667</td>\n",
              "      <td>0.959502</td>\n",
              "      <td>0.60</td>\n",
              "    </tr>\n",
              "    <tr>\n",
              "      <th>7</th>\n",
              "      <td>0.0</td>\n",
              "      <td>1.000000</td>\n",
              "      <td>0.945045</td>\n",
              "      <td>1.00</td>\n",
              "    </tr>\n",
              "    <tr>\n",
              "      <th>8</th>\n",
              "      <td>0.5</td>\n",
              "      <td>0.666667</td>\n",
              "      <td>0.915635</td>\n",
              "      <td>0.60</td>\n",
              "    </tr>\n",
              "    <tr>\n",
              "      <th>9</th>\n",
              "      <td>1.0</td>\n",
              "      <td>1.000000</td>\n",
              "      <td>0.914644</td>\n",
              "      <td>1.00</td>\n",
              "    </tr>\n",
              "  </tbody>\n",
              "</table>\n",
              "</div>"
            ],
            "text/plain": [
              "   context_precision  faithfulness  answer_relevancy  context_recall\n",
              "0                1.0      0.750000          0.950490            0.75\n",
              "1                1.0      0.600000          0.958473            0.50\n",
              "2                1.0      1.000000          0.935646            1.00\n",
              "3                1.0      0.750000          0.980299            1.00\n",
              "4                1.0      1.000000          0.998046            1.00\n",
              "5                1.0      1.000000          0.901518            0.60\n",
              "6                0.5      0.666667          0.959502            0.60\n",
              "7                0.0      1.000000          0.945045            1.00\n",
              "8                0.5      0.666667          0.915635            0.60\n",
              "9                1.0      1.000000          0.914644            1.00"
            ]
          },
          "execution_count": 60,
          "metadata": {},
          "output_type": "execute_result"
        }
      ],
      "source": [
        "result_df.loc[:, \"context_precision\":\"context_recall\"]"
      ]
    },
    {
      "cell_type": "markdown",
      "id": "09f1e899",
      "metadata": {},
      "source": [
        "Store results in a file"
      ]
    },
    {
      "cell_type": "code",
      "execution_count": 61,
      "id": "fa52f27b",
      "metadata": {},
      "outputs": [],
      "source": [
        "result_df.to_csv(\"data/ragas_evaluation_result.csv\", index=False)"
      ]
    }
  ],
  "metadata": {
    "kernelspec": {
      "display_name": "myenv",
      "language": "python",
      "name": "python3"
    },
    "language_info": {
      "codemirror_mode": {
        "name": "ipython",
        "version": 3
      },
      "file_extension": ".py",
      "mimetype": "text/x-python",
      "name": "python",
      "nbconvert_exporter": "python",
      "pygments_lexer": "ipython3",
      "version": "3.11.7"
    }
  },
  "nbformat": 4,
  "nbformat_minor": 5
}
